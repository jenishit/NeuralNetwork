{
 "cells": [
  {
   "cell_type": "markdown",
   "id": "df952a7f",
   "metadata": {},
   "source": [
    "LMS Algorithm Implementation"
   ]
  },
  {
   "cell_type": "code",
   "execution_count": null,
   "id": "9b3c7ca3",
   "metadata": {},
   "outputs": [],
   "source": [
    "import numpy as np\n",
    "import pandas as pd\n",
    "import matplotlib.pyplot as plt\n",
    "from sklearn.model_selection import train_test_split\n",
    "from sklearn.preprocessing import StandardScaler"
   ]
  },
  {
   "cell_type": "code",
   "execution_count": null,
   "id": "3dc87485",
   "metadata": {},
   "outputs": [],
   "source": [
    "class LMSFilter:\n",
    "    \"\"\"Least Mean square adaptive filter\"\"\"\n",
    "    def __init__(self, n_taps: int, learning_rate: float = 0.01):\n",
    "        self.n_taps = n_taps\n",
    "        self.learning_rate = learning_rate\n",
    "        self.weights = np.zeros(n_taps)\n",
    "        self.error_history = []\n",
    "        self.weight_history = []\n",
    "\n",
    "    def filter(self, x: np.ndarray, d: np.ndarray):\n",
    "        \"\"\"LMS Filter apply\"\"\"\n",
    "        n_samples = len(x)\n",
    "        y = np.zeros(n_samples)\n",
    "\n",
    "        for n in range(self.n_taps, n_samples):\n",
    "            x_n = x[n-self.n_taps:n][::-1] #Reverse for convolution\n",
    "\n",
    "            y[n] = np.dot(self.weights, x_n)\n",
    "\n",
    "            error = d[n] - y[n]\n",
    "            self.error_history.append(error)\n",
    "\n",
    "            self.weights += self.learning_rate * error * x_n\n",
    "            self.weight_history.append(self.weights.copy())\n",
    "\n",
    "        return y\n",
    "\n",
    "    def plot_learning_curve(self):\n",
    "        plt.figure(figsize=(14, 8))\n",
    "\n",
    "        plt.subplot(2, 2, 1)\n",
    "        plt.plot(np.abs(self.error_history))\n",
    "        plt.title('Absolute Error vs Iterations')\n",
    "        plt.xlabel('Iteration')\n",
    "        plt.ylabel('|Error|')\n",
    "        plt.yscale('log')\n",
    "        plt.grid(True)\n",
    "\n",
    "        plt."
   ]
  }
 ],
 "metadata": {
  "kernelspec": {
   "display_name": "Python 3",
   "language": "python",
   "name": "python3"
  },
  "language_info": {
   "name": "python",
   "version": "3.12.10"
  }
 },
 "nbformat": 4,
 "nbformat_minor": 5
}
